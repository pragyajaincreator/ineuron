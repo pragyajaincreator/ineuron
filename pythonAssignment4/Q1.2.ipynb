{
 "cells": [
  {
   "cell_type": "code",
   "execution_count": 2,
   "metadata": {},
   "outputs": [
    {
     "name": "stdout",
     "output_type": "stream",
     "text": [
      "Initialised list_Utilities object\n",
      "New List of Words  => ['beautiful', 'girl']\n"
     ]
    }
   ],
   "source": [
    "class list_Utilities:\n",
    " def __init__(self, wordlist):\n",
    "  self.wordlist = wordlist\n",
    "  print (\"Initialised list_Utilities object\")\n",
    "\n",
    " def filter_long_words(self, n):\n",
    "  return list(filter(lambda x:len(x) > n, self.wordlist))\n",
    "\n",
    "instance = list_Utilities([\"She\",\"is\",\"a\",\"beautiful\",\"girl\"])\n",
    "print (\"New List of Words  => \" + str(instance.filter_long_words(3)) ) \n",
    " "
   ]
  },
  {
   "cell_type": "code",
   "execution_count": null,
   "metadata": {},
   "outputs": [],
   "source": []
  }
 ],
 "metadata": {
  "kernelspec": {
   "display_name": "Python 3",
   "language": "python",
   "name": "python3"
  },
  "language_info": {
   "codemirror_mode": {
    "name": "ipython",
    "version": 3
   },
   "file_extension": ".py",
   "mimetype": "text/x-python",
   "name": "python",
   "nbconvert_exporter": "python",
   "pygments_lexer": "ipython3",
   "version": "3.6.4"
  }
 },
 "nbformat": 4,
 "nbformat_minor": 2
}
