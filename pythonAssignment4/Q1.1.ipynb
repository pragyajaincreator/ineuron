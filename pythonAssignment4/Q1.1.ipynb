{
 "cells": [
  {
   "cell_type": "code",
   "execution_count": 1,
   "metadata": {},
   "outputs": [
    {
     "name": "stdout",
     "output_type": "stream",
     "text": [
      "Initialised Utils Child class\n",
      "Initialised Triagle super class [3,4,5]\n",
      "6.0\n",
      "Area of triangle = 6.0\n"
     ]
    }
   ],
   "source": [
    "class Triangle:\n",
    " def __init__(self, side1, side2, side3):\n",
    "  self.side1 = side1\n",
    "  self.side2 = side2\n",
    "  self.side3 = side3\n",
    "  print (\"Initialised Triagle super class [\" +  str(side1) + \",\" + str(side2) + \",\" + str(side3) + \"]\")\n",
    "\n",
    "class Triangle_Utilities(Triangle):\n",
    " \n",
    " def __init__(self, side1, side2, side3):\n",
    "  print (\"Initialised Utils Child class\" )\n",
    "  super(Triangle_Utilities, self).__init__(side1, side2, side3)\n",
    "\n",
    " def get_area(self):\n",
    "  s = (self.side1 + self.side2 + self.side3)/2\n",
    "  print (str(s))\n",
    "  return (s*(s-self.side1)*(s-self.side2)*(s-self.side3))**0.5\n",
    "\n",
    "instance = Triangle_Utilities(3,4,5)\n",
    "print (\"Area of triangle = \" + str(instance.get_area()) )"
   ]
  },
  {
   "cell_type": "code",
   "execution_count": null,
   "metadata": {},
   "outputs": [],
   "source": []
  }
 ],
 "metadata": {
  "kernelspec": {
   "display_name": "Python 3",
   "language": "python",
   "name": "python3"
  },
  "language_info": {
   "codemirror_mode": {
    "name": "ipython",
    "version": 3
   },
   "file_extension": ".py",
   "mimetype": "text/x-python",
   "name": "python",
   "nbconvert_exporter": "python",
   "pygments_lexer": "ipython3",
   "version": "3.6.4"
  }
 },
 "nbformat": 4,
 "nbformat_minor": 2
}
